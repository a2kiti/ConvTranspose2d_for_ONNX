{
  "nbformat": 4,
  "nbformat_minor": 0,
  "metadata": {
    "colab": {
      "name": "ConvTranpose2D_for_onnxjs.ipynb",
      "provenance": [],
      "collapsed_sections": [],
      "toc_visible": true,
      "include_colab_link": true
    },
    "kernelspec": {
      "name": "python3",
      "display_name": "Python 3"
    },
    "accelerator": "GPU",
    "widgets": {
      "application/vnd.jupyter.widget-state+json": {
        "5ed5531ce679436b83dd9af4e1e409dd": {
          "model_module": "@jupyter-widgets/controls",
          "model_name": "HBoxModel",
          "state": {
            "_view_name": "HBoxView",
            "_dom_classes": [],
            "_model_name": "HBoxModel",
            "_view_module": "@jupyter-widgets/controls",
            "_model_module_version": "1.5.0",
            "_view_count": null,
            "_view_module_version": "1.5.0",
            "box_style": "",
            "layout": "IPY_MODEL_04cb17d64d8f47a098eb0131b621ea83",
            "_model_module": "@jupyter-widgets/controls",
            "children": [
              "IPY_MODEL_2711de5e8bb44d4d9baa9049b472cf64",
              "IPY_MODEL_833976c98e9741d185c2ac6432281a2c"
            ]
          }
        },
        "04cb17d64d8f47a098eb0131b621ea83": {
          "model_module": "@jupyter-widgets/base",
          "model_name": "LayoutModel",
          "state": {
            "_view_name": "LayoutView",
            "grid_template_rows": null,
            "right": null,
            "justify_content": null,
            "_view_module": "@jupyter-widgets/base",
            "overflow": null,
            "_model_module_version": "1.2.0",
            "_view_count": null,
            "flex_flow": null,
            "width": null,
            "min_width": null,
            "border": null,
            "align_items": null,
            "bottom": null,
            "_model_module": "@jupyter-widgets/base",
            "top": null,
            "grid_column": null,
            "overflow_y": null,
            "overflow_x": null,
            "grid_auto_flow": null,
            "grid_area": null,
            "grid_template_columns": null,
            "flex": null,
            "_model_name": "LayoutModel",
            "justify_items": null,
            "grid_row": null,
            "max_height": null,
            "align_content": null,
            "visibility": null,
            "align_self": null,
            "height": null,
            "min_height": null,
            "padding": null,
            "grid_auto_rows": null,
            "grid_gap": null,
            "max_width": null,
            "order": null,
            "_view_module_version": "1.2.0",
            "grid_template_areas": null,
            "object_position": null,
            "object_fit": null,
            "grid_auto_columns": null,
            "margin": null,
            "display": null,
            "left": null
          }
        },
        "2711de5e8bb44d4d9baa9049b472cf64": {
          "model_module": "@jupyter-widgets/controls",
          "model_name": "IntProgressModel",
          "state": {
            "_view_name": "ProgressView",
            "style": "IPY_MODEL_1fd4691ad25945008922290ae88c4289",
            "_dom_classes": [],
            "description": "",
            "_model_name": "IntProgressModel",
            "bar_style": "info",
            "max": 1,
            "_view_module": "@jupyter-widgets/controls",
            "_model_module_version": "1.5.0",
            "value": 1,
            "_view_count": null,
            "_view_module_version": "1.5.0",
            "orientation": "horizontal",
            "min": 0,
            "description_tooltip": null,
            "_model_module": "@jupyter-widgets/controls",
            "layout": "IPY_MODEL_a308e8203f474262a48640d40a050034"
          }
        },
        "833976c98e9741d185c2ac6432281a2c": {
          "model_module": "@jupyter-widgets/controls",
          "model_name": "HTMLModel",
          "state": {
            "_view_name": "HTMLView",
            "style": "IPY_MODEL_45f7f597ecf14250b19127bb92362888",
            "_dom_classes": [],
            "description": "",
            "_model_name": "HTMLModel",
            "placeholder": "​",
            "_view_module": "@jupyter-widgets/controls",
            "_model_module_version": "1.5.0",
            "value": " 9920512/? [00:20&lt;00:00, 1496507.01it/s]",
            "_view_count": null,
            "_view_module_version": "1.5.0",
            "description_tooltip": null,
            "_model_module": "@jupyter-widgets/controls",
            "layout": "IPY_MODEL_b7b1f417b29d487bb5dc12f85ec2a82a"
          }
        },
        "1fd4691ad25945008922290ae88c4289": {
          "model_module": "@jupyter-widgets/controls",
          "model_name": "ProgressStyleModel",
          "state": {
            "_view_name": "StyleView",
            "_model_name": "ProgressStyleModel",
            "description_width": "initial",
            "_view_module": "@jupyter-widgets/base",
            "_model_module_version": "1.5.0",
            "_view_count": null,
            "_view_module_version": "1.2.0",
            "bar_color": null,
            "_model_module": "@jupyter-widgets/controls"
          }
        },
        "a308e8203f474262a48640d40a050034": {
          "model_module": "@jupyter-widgets/base",
          "model_name": "LayoutModel",
          "state": {
            "_view_name": "LayoutView",
            "grid_template_rows": null,
            "right": null,
            "justify_content": null,
            "_view_module": "@jupyter-widgets/base",
            "overflow": null,
            "_model_module_version": "1.2.0",
            "_view_count": null,
            "flex_flow": null,
            "width": null,
            "min_width": null,
            "border": null,
            "align_items": null,
            "bottom": null,
            "_model_module": "@jupyter-widgets/base",
            "top": null,
            "grid_column": null,
            "overflow_y": null,
            "overflow_x": null,
            "grid_auto_flow": null,
            "grid_area": null,
            "grid_template_columns": null,
            "flex": null,
            "_model_name": "LayoutModel",
            "justify_items": null,
            "grid_row": null,
            "max_height": null,
            "align_content": null,
            "visibility": null,
            "align_self": null,
            "height": null,
            "min_height": null,
            "padding": null,
            "grid_auto_rows": null,
            "grid_gap": null,
            "max_width": null,
            "order": null,
            "_view_module_version": "1.2.0",
            "grid_template_areas": null,
            "object_position": null,
            "object_fit": null,
            "grid_auto_columns": null,
            "margin": null,
            "display": null,
            "left": null
          }
        },
        "45f7f597ecf14250b19127bb92362888": {
          "model_module": "@jupyter-widgets/controls",
          "model_name": "DescriptionStyleModel",
          "state": {
            "_view_name": "StyleView",
            "_model_name": "DescriptionStyleModel",
            "description_width": "",
            "_view_module": "@jupyter-widgets/base",
            "_model_module_version": "1.5.0",
            "_view_count": null,
            "_view_module_version": "1.2.0",
            "_model_module": "@jupyter-widgets/controls"
          }
        },
        "b7b1f417b29d487bb5dc12f85ec2a82a": {
          "model_module": "@jupyter-widgets/base",
          "model_name": "LayoutModel",
          "state": {
            "_view_name": "LayoutView",
            "grid_template_rows": null,
            "right": null,
            "justify_content": null,
            "_view_module": "@jupyter-widgets/base",
            "overflow": null,
            "_model_module_version": "1.2.0",
            "_view_count": null,
            "flex_flow": null,
            "width": null,
            "min_width": null,
            "border": null,
            "align_items": null,
            "bottom": null,
            "_model_module": "@jupyter-widgets/base",
            "top": null,
            "grid_column": null,
            "overflow_y": null,
            "overflow_x": null,
            "grid_auto_flow": null,
            "grid_area": null,
            "grid_template_columns": null,
            "flex": null,
            "_model_name": "LayoutModel",
            "justify_items": null,
            "grid_row": null,
            "max_height": null,
            "align_content": null,
            "visibility": null,
            "align_self": null,
            "height": null,
            "min_height": null,
            "padding": null,
            "grid_auto_rows": null,
            "grid_gap": null,
            "max_width": null,
            "order": null,
            "_view_module_version": "1.2.0",
            "grid_template_areas": null,
            "object_position": null,
            "object_fit": null,
            "grid_auto_columns": null,
            "margin": null,
            "display": null,
            "left": null
          }
        },
        "7f7e9b22b80744b5bc22997aead2d692": {
          "model_module": "@jupyter-widgets/controls",
          "model_name": "HBoxModel",
          "state": {
            "_view_name": "HBoxView",
            "_dom_classes": [],
            "_model_name": "HBoxModel",
            "_view_module": "@jupyter-widgets/controls",
            "_model_module_version": "1.5.0",
            "_view_count": null,
            "_view_module_version": "1.5.0",
            "box_style": "",
            "layout": "IPY_MODEL_a3c92be8f153415baee3f45717691f73",
            "_model_module": "@jupyter-widgets/controls",
            "children": [
              "IPY_MODEL_b19d147b02704097b5455da4ccc4fc45",
              "IPY_MODEL_421df7699de3448da857259de976e707"
            ]
          }
        },
        "a3c92be8f153415baee3f45717691f73": {
          "model_module": "@jupyter-widgets/base",
          "model_name": "LayoutModel",
          "state": {
            "_view_name": "LayoutView",
            "grid_template_rows": null,
            "right": null,
            "justify_content": null,
            "_view_module": "@jupyter-widgets/base",
            "overflow": null,
            "_model_module_version": "1.2.0",
            "_view_count": null,
            "flex_flow": null,
            "width": null,
            "min_width": null,
            "border": null,
            "align_items": null,
            "bottom": null,
            "_model_module": "@jupyter-widgets/base",
            "top": null,
            "grid_column": null,
            "overflow_y": null,
            "overflow_x": null,
            "grid_auto_flow": null,
            "grid_area": null,
            "grid_template_columns": null,
            "flex": null,
            "_model_name": "LayoutModel",
            "justify_items": null,
            "grid_row": null,
            "max_height": null,
            "align_content": null,
            "visibility": null,
            "align_self": null,
            "height": null,
            "min_height": null,
            "padding": null,
            "grid_auto_rows": null,
            "grid_gap": null,
            "max_width": null,
            "order": null,
            "_view_module_version": "1.2.0",
            "grid_template_areas": null,
            "object_position": null,
            "object_fit": null,
            "grid_auto_columns": null,
            "margin": null,
            "display": null,
            "left": null
          }
        },
        "b19d147b02704097b5455da4ccc4fc45": {
          "model_module": "@jupyter-widgets/controls",
          "model_name": "IntProgressModel",
          "state": {
            "_view_name": "ProgressView",
            "style": "IPY_MODEL_13c75942dd4841aa971e927caa945c31",
            "_dom_classes": [],
            "description": "  0%",
            "_model_name": "IntProgressModel",
            "bar_style": "info",
            "max": 1,
            "_view_module": "@jupyter-widgets/controls",
            "_model_module_version": "1.5.0",
            "value": 0,
            "_view_count": null,
            "_view_module_version": "1.5.0",
            "orientation": "horizontal",
            "min": 0,
            "description_tooltip": null,
            "_model_module": "@jupyter-widgets/controls",
            "layout": "IPY_MODEL_4637c54b01bb4761838d2458f5494023"
          }
        },
        "421df7699de3448da857259de976e707": {
          "model_module": "@jupyter-widgets/controls",
          "model_name": "HTMLModel",
          "state": {
            "_view_name": "HTMLView",
            "style": "IPY_MODEL_55091c6d548e485d86ea9ccab12aef05",
            "_dom_classes": [],
            "description": "",
            "_model_name": "HTMLModel",
            "placeholder": "​",
            "_view_module": "@jupyter-widgets/controls",
            "_model_module_version": "1.5.0",
            "value": " 0/28881 [00:00&lt;?, ?it/s]",
            "_view_count": null,
            "_view_module_version": "1.5.0",
            "description_tooltip": null,
            "_model_module": "@jupyter-widgets/controls",
            "layout": "IPY_MODEL_65334a4f19f34aa294be4932c75cdf71"
          }
        },
        "13c75942dd4841aa971e927caa945c31": {
          "model_module": "@jupyter-widgets/controls",
          "model_name": "ProgressStyleModel",
          "state": {
            "_view_name": "StyleView",
            "_model_name": "ProgressStyleModel",
            "description_width": "initial",
            "_view_module": "@jupyter-widgets/base",
            "_model_module_version": "1.5.0",
            "_view_count": null,
            "_view_module_version": "1.2.0",
            "bar_color": null,
            "_model_module": "@jupyter-widgets/controls"
          }
        },
        "4637c54b01bb4761838d2458f5494023": {
          "model_module": "@jupyter-widgets/base",
          "model_name": "LayoutModel",
          "state": {
            "_view_name": "LayoutView",
            "grid_template_rows": null,
            "right": null,
            "justify_content": null,
            "_view_module": "@jupyter-widgets/base",
            "overflow": null,
            "_model_module_version": "1.2.0",
            "_view_count": null,
            "flex_flow": null,
            "width": null,
            "min_width": null,
            "border": null,
            "align_items": null,
            "bottom": null,
            "_model_module": "@jupyter-widgets/base",
            "top": null,
            "grid_column": null,
            "overflow_y": null,
            "overflow_x": null,
            "grid_auto_flow": null,
            "grid_area": null,
            "grid_template_columns": null,
            "flex": null,
            "_model_name": "LayoutModel",
            "justify_items": null,
            "grid_row": null,
            "max_height": null,
            "align_content": null,
            "visibility": null,
            "align_self": null,
            "height": null,
            "min_height": null,
            "padding": null,
            "grid_auto_rows": null,
            "grid_gap": null,
            "max_width": null,
            "order": null,
            "_view_module_version": "1.2.0",
            "grid_template_areas": null,
            "object_position": null,
            "object_fit": null,
            "grid_auto_columns": null,
            "margin": null,
            "display": null,
            "left": null
          }
        },
        "55091c6d548e485d86ea9ccab12aef05": {
          "model_module": "@jupyter-widgets/controls",
          "model_name": "DescriptionStyleModel",
          "state": {
            "_view_name": "StyleView",
            "_model_name": "DescriptionStyleModel",
            "description_width": "",
            "_view_module": "@jupyter-widgets/base",
            "_model_module_version": "1.5.0",
            "_view_count": null,
            "_view_module_version": "1.2.0",
            "_model_module": "@jupyter-widgets/controls"
          }
        },
        "65334a4f19f34aa294be4932c75cdf71": {
          "model_module": "@jupyter-widgets/base",
          "model_name": "LayoutModel",
          "state": {
            "_view_name": "LayoutView",
            "grid_template_rows": null,
            "right": null,
            "justify_content": null,
            "_view_module": "@jupyter-widgets/base",
            "overflow": null,
            "_model_module_version": "1.2.0",
            "_view_count": null,
            "flex_flow": null,
            "width": null,
            "min_width": null,
            "border": null,
            "align_items": null,
            "bottom": null,
            "_model_module": "@jupyter-widgets/base",
            "top": null,
            "grid_column": null,
            "overflow_y": null,
            "overflow_x": null,
            "grid_auto_flow": null,
            "grid_area": null,
            "grid_template_columns": null,
            "flex": null,
            "_model_name": "LayoutModel",
            "justify_items": null,
            "grid_row": null,
            "max_height": null,
            "align_content": null,
            "visibility": null,
            "align_self": null,
            "height": null,
            "min_height": null,
            "padding": null,
            "grid_auto_rows": null,
            "grid_gap": null,
            "max_width": null,
            "order": null,
            "_view_module_version": "1.2.0",
            "grid_template_areas": null,
            "object_position": null,
            "object_fit": null,
            "grid_auto_columns": null,
            "margin": null,
            "display": null,
            "left": null
          }
        },
        "bd34d11751284fe9adfef700759abe97": {
          "model_module": "@jupyter-widgets/controls",
          "model_name": "HBoxModel",
          "state": {
            "_view_name": "HBoxView",
            "_dom_classes": [],
            "_model_name": "HBoxModel",
            "_view_module": "@jupyter-widgets/controls",
            "_model_module_version": "1.5.0",
            "_view_count": null,
            "_view_module_version": "1.5.0",
            "box_style": "",
            "layout": "IPY_MODEL_8e94d4a7cecd4987a8e47f23e231be49",
            "_model_module": "@jupyter-widgets/controls",
            "children": [
              "IPY_MODEL_9627ce5b590d4d64b9825aef1162a843",
              "IPY_MODEL_b36ad9d5d9f94dd188381ba85caf1db7"
            ]
          }
        },
        "8e94d4a7cecd4987a8e47f23e231be49": {
          "model_module": "@jupyter-widgets/base",
          "model_name": "LayoutModel",
          "state": {
            "_view_name": "LayoutView",
            "grid_template_rows": null,
            "right": null,
            "justify_content": null,
            "_view_module": "@jupyter-widgets/base",
            "overflow": null,
            "_model_module_version": "1.2.0",
            "_view_count": null,
            "flex_flow": null,
            "width": null,
            "min_width": null,
            "border": null,
            "align_items": null,
            "bottom": null,
            "_model_module": "@jupyter-widgets/base",
            "top": null,
            "grid_column": null,
            "overflow_y": null,
            "overflow_x": null,
            "grid_auto_flow": null,
            "grid_area": null,
            "grid_template_columns": null,
            "flex": null,
            "_model_name": "LayoutModel",
            "justify_items": null,
            "grid_row": null,
            "max_height": null,
            "align_content": null,
            "visibility": null,
            "align_self": null,
            "height": null,
            "min_height": null,
            "padding": null,
            "grid_auto_rows": null,
            "grid_gap": null,
            "max_width": null,
            "order": null,
            "_view_module_version": "1.2.0",
            "grid_template_areas": null,
            "object_position": null,
            "object_fit": null,
            "grid_auto_columns": null,
            "margin": null,
            "display": null,
            "left": null
          }
        },
        "9627ce5b590d4d64b9825aef1162a843": {
          "model_module": "@jupyter-widgets/controls",
          "model_name": "IntProgressModel",
          "state": {
            "_view_name": "ProgressView",
            "style": "IPY_MODEL_e46dd2bfac72429790f8b3879c27cdc5",
            "_dom_classes": [],
            "description": "",
            "_model_name": "IntProgressModel",
            "bar_style": "success",
            "max": 1,
            "_view_module": "@jupyter-widgets/controls",
            "_model_module_version": "1.5.0",
            "value": 1,
            "_view_count": null,
            "_view_module_version": "1.5.0",
            "orientation": "horizontal",
            "min": 0,
            "description_tooltip": null,
            "_model_module": "@jupyter-widgets/controls",
            "layout": "IPY_MODEL_add3a1bc41634db59e994620e80eb925"
          }
        },
        "b36ad9d5d9f94dd188381ba85caf1db7": {
          "model_module": "@jupyter-widgets/controls",
          "model_name": "HTMLModel",
          "state": {
            "_view_name": "HTMLView",
            "style": "IPY_MODEL_7446e2d228e84d3e8a8aee7b236ae6b8",
            "_dom_classes": [],
            "description": "",
            "_model_name": "HTMLModel",
            "placeholder": "​",
            "_view_module": "@jupyter-widgets/controls",
            "_model_module_version": "1.5.0",
            "value": " 1654784/? [00:01&lt;00:00, 1565989.78it/s]",
            "_view_count": null,
            "_view_module_version": "1.5.0",
            "description_tooltip": null,
            "_model_module": "@jupyter-widgets/controls",
            "layout": "IPY_MODEL_fdd95d5034434630a37ea21710119d0f"
          }
        },
        "e46dd2bfac72429790f8b3879c27cdc5": {
          "model_module": "@jupyter-widgets/controls",
          "model_name": "ProgressStyleModel",
          "state": {
            "_view_name": "StyleView",
            "_model_name": "ProgressStyleModel",
            "description_width": "initial",
            "_view_module": "@jupyter-widgets/base",
            "_model_module_version": "1.5.0",
            "_view_count": null,
            "_view_module_version": "1.2.0",
            "bar_color": null,
            "_model_module": "@jupyter-widgets/controls"
          }
        },
        "add3a1bc41634db59e994620e80eb925": {
          "model_module": "@jupyter-widgets/base",
          "model_name": "LayoutModel",
          "state": {
            "_view_name": "LayoutView",
            "grid_template_rows": null,
            "right": null,
            "justify_content": null,
            "_view_module": "@jupyter-widgets/base",
            "overflow": null,
            "_model_module_version": "1.2.0",
            "_view_count": null,
            "flex_flow": null,
            "width": null,
            "min_width": null,
            "border": null,
            "align_items": null,
            "bottom": null,
            "_model_module": "@jupyter-widgets/base",
            "top": null,
            "grid_column": null,
            "overflow_y": null,
            "overflow_x": null,
            "grid_auto_flow": null,
            "grid_area": null,
            "grid_template_columns": null,
            "flex": null,
            "_model_name": "LayoutModel",
            "justify_items": null,
            "grid_row": null,
            "max_height": null,
            "align_content": null,
            "visibility": null,
            "align_self": null,
            "height": null,
            "min_height": null,
            "padding": null,
            "grid_auto_rows": null,
            "grid_gap": null,
            "max_width": null,
            "order": null,
            "_view_module_version": "1.2.0",
            "grid_template_areas": null,
            "object_position": null,
            "object_fit": null,
            "grid_auto_columns": null,
            "margin": null,
            "display": null,
            "left": null
          }
        },
        "7446e2d228e84d3e8a8aee7b236ae6b8": {
          "model_module": "@jupyter-widgets/controls",
          "model_name": "DescriptionStyleModel",
          "state": {
            "_view_name": "StyleView",
            "_model_name": "DescriptionStyleModel",
            "description_width": "",
            "_view_module": "@jupyter-widgets/base",
            "_model_module_version": "1.5.0",
            "_view_count": null,
            "_view_module_version": "1.2.0",
            "_model_module": "@jupyter-widgets/controls"
          }
        },
        "fdd95d5034434630a37ea21710119d0f": {
          "model_module": "@jupyter-widgets/base",
          "model_name": "LayoutModel",
          "state": {
            "_view_name": "LayoutView",
            "grid_template_rows": null,
            "right": null,
            "justify_content": null,
            "_view_module": "@jupyter-widgets/base",
            "overflow": null,
            "_model_module_version": "1.2.0",
            "_view_count": null,
            "flex_flow": null,
            "width": null,
            "min_width": null,
            "border": null,
            "align_items": null,
            "bottom": null,
            "_model_module": "@jupyter-widgets/base",
            "top": null,
            "grid_column": null,
            "overflow_y": null,
            "overflow_x": null,
            "grid_auto_flow": null,
            "grid_area": null,
            "grid_template_columns": null,
            "flex": null,
            "_model_name": "LayoutModel",
            "justify_items": null,
            "grid_row": null,
            "max_height": null,
            "align_content": null,
            "visibility": null,
            "align_self": null,
            "height": null,
            "min_height": null,
            "padding": null,
            "grid_auto_rows": null,
            "grid_gap": null,
            "max_width": null,
            "order": null,
            "_view_module_version": "1.2.0",
            "grid_template_areas": null,
            "object_position": null,
            "object_fit": null,
            "grid_auto_columns": null,
            "margin": null,
            "display": null,
            "left": null
          }
        },
        "abc7270cc00a4cd78fe4a5316ac2f89c": {
          "model_module": "@jupyter-widgets/controls",
          "model_name": "HBoxModel",
          "state": {
            "_view_name": "HBoxView",
            "_dom_classes": [],
            "_model_name": "HBoxModel",
            "_view_module": "@jupyter-widgets/controls",
            "_model_module_version": "1.5.0",
            "_view_count": null,
            "_view_module_version": "1.5.0",
            "box_style": "",
            "layout": "IPY_MODEL_f064f10182d2446eb0f0ba7cf890302c",
            "_model_module": "@jupyter-widgets/controls",
            "children": [
              "IPY_MODEL_5839d9b944aa486fa05260c9d8da6509",
              "IPY_MODEL_6e72e691bbb74fbd83ca2509e7454a5d"
            ]
          }
        },
        "f064f10182d2446eb0f0ba7cf890302c": {
          "model_module": "@jupyter-widgets/base",
          "model_name": "LayoutModel",
          "state": {
            "_view_name": "LayoutView",
            "grid_template_rows": null,
            "right": null,
            "justify_content": null,
            "_view_module": "@jupyter-widgets/base",
            "overflow": null,
            "_model_module_version": "1.2.0",
            "_view_count": null,
            "flex_flow": null,
            "width": null,
            "min_width": null,
            "border": null,
            "align_items": null,
            "bottom": null,
            "_model_module": "@jupyter-widgets/base",
            "top": null,
            "grid_column": null,
            "overflow_y": null,
            "overflow_x": null,
            "grid_auto_flow": null,
            "grid_area": null,
            "grid_template_columns": null,
            "flex": null,
            "_model_name": "LayoutModel",
            "justify_items": null,
            "grid_row": null,
            "max_height": null,
            "align_content": null,
            "visibility": null,
            "align_self": null,
            "height": null,
            "min_height": null,
            "padding": null,
            "grid_auto_rows": null,
            "grid_gap": null,
            "max_width": null,
            "order": null,
            "_view_module_version": "1.2.0",
            "grid_template_areas": null,
            "object_position": null,
            "object_fit": null,
            "grid_auto_columns": null,
            "margin": null,
            "display": null,
            "left": null
          }
        },
        "5839d9b944aa486fa05260c9d8da6509": {
          "model_module": "@jupyter-widgets/controls",
          "model_name": "IntProgressModel",
          "state": {
            "_view_name": "ProgressView",
            "style": "IPY_MODEL_1b847897e9544a43b7e80a4bed415490",
            "_dom_classes": [],
            "description": "",
            "_model_name": "IntProgressModel",
            "bar_style": "success",
            "max": 1,
            "_view_module": "@jupyter-widgets/controls",
            "_model_module_version": "1.5.0",
            "value": 1,
            "_view_count": null,
            "_view_module_version": "1.5.0",
            "orientation": "horizontal",
            "min": 0,
            "description_tooltip": null,
            "_model_module": "@jupyter-widgets/controls",
            "layout": "IPY_MODEL_d2ea969e59e941999fc6fef595a17fe5"
          }
        },
        "6e72e691bbb74fbd83ca2509e7454a5d": {
          "model_module": "@jupyter-widgets/controls",
          "model_name": "HTMLModel",
          "state": {
            "_view_name": "HTMLView",
            "style": "IPY_MODEL_e49281729c3a4d4dad78b389bf317cb9",
            "_dom_classes": [],
            "description": "",
            "_model_name": "HTMLModel",
            "placeholder": "​",
            "_view_module": "@jupyter-widgets/controls",
            "_model_module_version": "1.5.0",
            "value": " 8192/? [00:00&lt;00:00, 11749.57it/s]",
            "_view_count": null,
            "_view_module_version": "1.5.0",
            "description_tooltip": null,
            "_model_module": "@jupyter-widgets/controls",
            "layout": "IPY_MODEL_7ad9fc3726624930a6c0d8f8afe421ae"
          }
        },
        "1b847897e9544a43b7e80a4bed415490": {
          "model_module": "@jupyter-widgets/controls",
          "model_name": "ProgressStyleModel",
          "state": {
            "_view_name": "StyleView",
            "_model_name": "ProgressStyleModel",
            "description_width": "initial",
            "_view_module": "@jupyter-widgets/base",
            "_model_module_version": "1.5.0",
            "_view_count": null,
            "_view_module_version": "1.2.0",
            "bar_color": null,
            "_model_module": "@jupyter-widgets/controls"
          }
        },
        "d2ea969e59e941999fc6fef595a17fe5": {
          "model_module": "@jupyter-widgets/base",
          "model_name": "LayoutModel",
          "state": {
            "_view_name": "LayoutView",
            "grid_template_rows": null,
            "right": null,
            "justify_content": null,
            "_view_module": "@jupyter-widgets/base",
            "overflow": null,
            "_model_module_version": "1.2.0",
            "_view_count": null,
            "flex_flow": null,
            "width": null,
            "min_width": null,
            "border": null,
            "align_items": null,
            "bottom": null,
            "_model_module": "@jupyter-widgets/base",
            "top": null,
            "grid_column": null,
            "overflow_y": null,
            "overflow_x": null,
            "grid_auto_flow": null,
            "grid_area": null,
            "grid_template_columns": null,
            "flex": null,
            "_model_name": "LayoutModel",
            "justify_items": null,
            "grid_row": null,
            "max_height": null,
            "align_content": null,
            "visibility": null,
            "align_self": null,
            "height": null,
            "min_height": null,
            "padding": null,
            "grid_auto_rows": null,
            "grid_gap": null,
            "max_width": null,
            "order": null,
            "_view_module_version": "1.2.0",
            "grid_template_areas": null,
            "object_position": null,
            "object_fit": null,
            "grid_auto_columns": null,
            "margin": null,
            "display": null,
            "left": null
          }
        },
        "e49281729c3a4d4dad78b389bf317cb9": {
          "model_module": "@jupyter-widgets/controls",
          "model_name": "DescriptionStyleModel",
          "state": {
            "_view_name": "StyleView",
            "_model_name": "DescriptionStyleModel",
            "description_width": "",
            "_view_module": "@jupyter-widgets/base",
            "_model_module_version": "1.5.0",
            "_view_count": null,
            "_view_module_version": "1.2.0",
            "_model_module": "@jupyter-widgets/controls"
          }
        },
        "7ad9fc3726624930a6c0d8f8afe421ae": {
          "model_module": "@jupyter-widgets/base",
          "model_name": "LayoutModel",
          "state": {
            "_view_name": "LayoutView",
            "grid_template_rows": null,
            "right": null,
            "justify_content": null,
            "_view_module": "@jupyter-widgets/base",
            "overflow": null,
            "_model_module_version": "1.2.0",
            "_view_count": null,
            "flex_flow": null,
            "width": null,
            "min_width": null,
            "border": null,
            "align_items": null,
            "bottom": null,
            "_model_module": "@jupyter-widgets/base",
            "top": null,
            "grid_column": null,
            "overflow_y": null,
            "overflow_x": null,
            "grid_auto_flow": null,
            "grid_area": null,
            "grid_template_columns": null,
            "flex": null,
            "_model_name": "LayoutModel",
            "justify_items": null,
            "grid_row": null,
            "max_height": null,
            "align_content": null,
            "visibility": null,
            "align_self": null,
            "height": null,
            "min_height": null,
            "padding": null,
            "grid_auto_rows": null,
            "grid_gap": null,
            "max_width": null,
            "order": null,
            "_view_module_version": "1.2.0",
            "grid_template_areas": null,
            "object_position": null,
            "object_fit": null,
            "grid_auto_columns": null,
            "margin": null,
            "display": null,
            "left": null
          }
        }
      }
    }
  },
  "cells": [
    {
      "cell_type": "markdown",
      "metadata": {
        "id": "view-in-github",
        "colab_type": "text"
      },
      "source": [
        "<a href=\"https://colab.research.google.com/github/a2kiti/ConvTranspose2d_for_ONNX/blob/master/ConvTranpose2D_for_onnxjs.ipynb\" target=\"_parent\"><img src=\"https://colab.research.google.com/assets/colab-badge.svg\" alt=\"Open In Colab\"/></a>"
      ]
    },
    {
      "cell_type": "markdown",
      "metadata": {
        "id": "dJ-GMDrZRkh5",
        "colab_type": "text"
      },
      "source": [
        "# Make pytorch model (example DCGAN)"
      ]
    },
    {
      "cell_type": "code",
      "metadata": {
        "id": "DNqD3RLoss4D",
        "colab_type": "code",
        "colab": {}
      },
      "source": [
        "import os\n",
        "import random\n",
        "import numpy as np\n",
        "import torch.nn as nn\n",
        "import torch.optim as optim\n",
        "import torch.utils.data\n",
        "import torchvision.datasets as datasets\n",
        "import torchvision.transforms as transforms\n",
        "import torchvision.utils as vutils\n",
        "import matplotlib.pyplot as plt\n",
        "import cv2"
      ],
      "execution_count": 0,
      "outputs": []
    },
    {
      "cell_type": "code",
      "metadata": {
        "id": "MUpE8qx6EUdN",
        "colab_type": "code",
        "colab": {}
      },
      "source": [
        "class Generator(nn.Module):\n",
        "    def __init__(self, nz=100, nch_g=64, nch=1):\n",
        "        super(Generator, self).__init__()\n",
        "\n",
        "        # (100, 1, 1) -> (256, 4, 4)\n",
        "        self.conv0 = nn.ConvTranspose2d(nz, nch_g * 4, 4, 1, 0)\n",
        "        self.bn0 = nn.BatchNorm2d(nch_g * 4)\n",
        "        self.act0 = nn.ReLU()\n",
        "        \n",
        "        # (256, 4, 4) -> (128, 8, 8)\n",
        "        self.conv1 = nn.ConvTranspose2d(nch_g*4, nch_g * 2, 4, 2, 1)\n",
        "        self.bn1 = nn.BatchNorm2d(nch_g * 2)\n",
        "        self.act1 = nn.ReLU()\n",
        "        \n",
        "        # (128, 8, 8) -> (64, 16, 16)\n",
        "        self.conv2 = nn.ConvTranspose2d(nch_g*2, nch_g * 1, 4, 2, 1)\n",
        "        self.bn2 = nn.BatchNorm2d(nch_g * 1)\n",
        "        self.act2 = nn.ReLU()\n",
        "        \n",
        "        # (64, 16, 16) -> (1, 32, 32)\n",
        "        self.conv3 = nn.ConvTranspose2d(nch_g*1, nch, 4, 2, 1)\n",
        "        self.act3 = nn.Tanh()\n",
        "        \n",
        "    def forward(self, z):\n",
        "        z = self.conv0(z)\n",
        "        z = self.bn0(z)\n",
        "        z = self.act0(z)\n",
        "\n",
        "        z = self.conv1(z)\n",
        "        z = self.bn1(z)\n",
        "        z = self.act1(z)\n",
        "\n",
        "        z = self.conv2(z)\n",
        "        z = self.bn2(z)\n",
        "        z = self.act2(z)\n",
        "\n",
        "        z = self.conv3(z)\n",
        "        z = self.act3(z)\n",
        "        return z\n",
        "\n",
        "class Discriminator(nn.Module):\n",
        "    def __init__(self, nch=1, nch_d=64, nz=100):\n",
        "        super(Discriminator, self).__init__()\n",
        "        \n",
        "        # (1, 32, 32) -> (64, 16, 16)\n",
        "        self.conv0 = nn.Conv2d(nch, nch_d, 4, 2, 1)\n",
        "        self.act0 = nn.LeakyReLU(negative_slope=0.2)\n",
        "        \n",
        "        # (64, 16, 16) -> (128, 8, 8)\n",
        "        self.conv1 = nn.Conv2d(nch_d, nch_d * 2, 4, 2, 1)\n",
        "        self.bn1 = nn.BatchNorm2d(nch_g * 2)\n",
        "        self.act1 = nn.LeakyReLU(negative_slope=0.2)\n",
        "        \n",
        "        # (128, 8, 8) -> (256, 4, 4)\n",
        "        self.conv2 = nn.Conv2d(nch_d * 2, nch_d * 4, 4, 2, 1)\n",
        "        self.bn2 = nn.BatchNorm2d(nch_g * 4)\n",
        "        self.act2 = nn.LeakyReLU(negative_slope=0.2)\n",
        "        \n",
        "        # (256, 4, 4) -> (1, 1, 1)\n",
        "        self.conv3 = nn.Conv2d(nch_d * 4, 1, 4, 1, 0)\n",
        "         \n",
        "    def forward(self, x):\n",
        "        x = self.conv0(x)\n",
        "        x = self.act0(x)\n",
        "\n",
        "        x = self.conv1(x)\n",
        "        x = self.bn1(x)\n",
        "        x = self.act1(x)\n",
        "\n",
        "        x = self.conv2(x)\n",
        "        x = self.bn2(x)\n",
        "        x = self.act2(x)\n",
        "\n",
        "        x = self.conv3(x)\n",
        "        return x.squeeze()     "
      ],
      "execution_count": 0,
      "outputs": []
    },
    {
      "cell_type": "code",
      "metadata": {
        "id": "ZwtQ4pJXNfbt",
        "colab_type": "code",
        "colab": {}
      },
      "source": [
        "nz = 100\n",
        "nch_g = 32\n",
        "nch_d = 32\n",
        "lr = 0.0002\n",
        "n_epoch = 10\n",
        "batch_size = 100"
      ],
      "execution_count": 0,
      "outputs": []
    },
    {
      "cell_type": "code",
      "metadata": {
        "id": "J-6vcJFsLcJq",
        "colab_type": "code",
        "colab": {
          "base_uri": "https://localhost:8080/",
          "height": 352,
          "referenced_widgets": [
            "5ed5531ce679436b83dd9af4e1e409dd",
            "04cb17d64d8f47a098eb0131b621ea83",
            "2711de5e8bb44d4d9baa9049b472cf64",
            "833976c98e9741d185c2ac6432281a2c",
            "1fd4691ad25945008922290ae88c4289",
            "a308e8203f474262a48640d40a050034",
            "45f7f597ecf14250b19127bb92362888",
            "b7b1f417b29d487bb5dc12f85ec2a82a",
            "7f7e9b22b80744b5bc22997aead2d692",
            "a3c92be8f153415baee3f45717691f73",
            "b19d147b02704097b5455da4ccc4fc45",
            "421df7699de3448da857259de976e707",
            "13c75942dd4841aa971e927caa945c31",
            "4637c54b01bb4761838d2458f5494023",
            "55091c6d548e485d86ea9ccab12aef05",
            "65334a4f19f34aa294be4932c75cdf71",
            "bd34d11751284fe9adfef700759abe97",
            "8e94d4a7cecd4987a8e47f23e231be49",
            "9627ce5b590d4d64b9825aef1162a843",
            "b36ad9d5d9f94dd188381ba85caf1db7",
            "e46dd2bfac72429790f8b3879c27cdc5",
            "add3a1bc41634db59e994620e80eb925",
            "7446e2d228e84d3e8a8aee7b236ae6b8",
            "fdd95d5034434630a37ea21710119d0f",
            "abc7270cc00a4cd78fe4a5316ac2f89c",
            "f064f10182d2446eb0f0ba7cf890302c",
            "5839d9b944aa486fa05260c9d8da6509",
            "6e72e691bbb74fbd83ca2509e7454a5d",
            "1b847897e9544a43b7e80a4bed415490",
            "d2ea969e59e941999fc6fef595a17fe5",
            "e49281729c3a4d4dad78b389bf317cb9",
            "7ad9fc3726624930a6c0d8f8afe421ae"
          ]
        },
        "outputId": "0c8730e8-769a-4580-d0d2-5843847a3460"
      },
      "source": [
        "# make 32*32 mnist dataset\n",
        "mnist_data = datasets.MNIST('data', train=True, download=True)\n",
        "x_data_mnist = mnist_data.data.numpy()\n",
        "y_data_mnist = mnist_data.targets.numpy()\n",
        "x_data = np.zeros((len(x_data_mnist), 32, 32), np.uint8)\n",
        "for i in range(len(x_data_mnist)):\n",
        "    x_data[i] = cv2.resize(x_data_mnist[i], (32,32))\n",
        "x_data_mnist = x_data\n",
        "\n",
        "class mydatasets(torch.utils.data.Dataset):\n",
        "    def __init__(self, dataset, labelset, train = True):\n",
        "        self.train = train\n",
        "        self.labelset = labelset\n",
        "        self.dataset = dataset\n",
        "        self.datanum = len(dataset)\n",
        "        self.labelnum = len(np.unique(labelset))\n",
        "\n",
        "    def __len__(self):\n",
        "        return self.datanum\n",
        "\n",
        "    def __getitem__(self, idx):\n",
        "        out_label = self.labelset[idx]\n",
        "        out_data = self.dataset[idx]\n",
        "        out_data = (out_data/255.0 - 0.5) / 0.5\n",
        "        out_data = torch.from_numpy(out_data.astype(np.float32)).unsqueeze(0)\n",
        "        return out_data, out_label\n",
        "\n",
        "dataloader = torch.utils.data.DataLoader(\n",
        "    mydatasets(x_data, y_data_mnist),\n",
        "    batch_size=batch_size, shuffle=True)\n",
        "\n",
        "label_num = dataloader.dataset.labelnum"
      ],
      "execution_count": 4,
      "outputs": [
        {
          "output_type": "stream",
          "text": [
            "Downloading http://yann.lecun.com/exdb/mnist/train-images-idx3-ubyte.gz to data/MNIST/raw/train-images-idx3-ubyte.gz\n"
          ],
          "name": "stdout"
        },
        {
          "output_type": "display_data",
          "data": {
            "application/vnd.jupyter.widget-view+json": {
              "model_id": "5ed5531ce679436b83dd9af4e1e409dd",
              "version_minor": 0,
              "version_major": 2
            },
            "text/plain": [
              "HBox(children=(IntProgress(value=1, bar_style='info', max=1), HTML(value='')))"
            ]
          },
          "metadata": {
            "tags": []
          }
        },
        {
          "output_type": "stream",
          "text": [
            "Extracting data/MNIST/raw/train-images-idx3-ubyte.gz to data/MNIST/raw\n",
            "Downloading http://yann.lecun.com/exdb/mnist/train-labels-idx1-ubyte.gz to data/MNIST/raw/train-labels-idx1-ubyte.gz\n"
          ],
          "name": "stdout"
        },
        {
          "output_type": "display_data",
          "data": {
            "application/vnd.jupyter.widget-view+json": {
              "model_id": "7f7e9b22b80744b5bc22997aead2d692",
              "version_minor": 0,
              "version_major": 2
            },
            "text/plain": [
              "HBox(children=(IntProgress(value=1, bar_style='info', max=1), HTML(value='')))"
            ]
          },
          "metadata": {
            "tags": []
          }
        },
        {
          "output_type": "stream",
          "text": [
            "Extracting data/MNIST/raw/train-labels-idx1-ubyte.gz to data/MNIST/raw\n",
            "Downloading http://yann.lecun.com/exdb/mnist/t10k-images-idx3-ubyte.gz to data/MNIST/raw/t10k-images-idx3-ubyte.gz\n"
          ],
          "name": "stdout"
        },
        {
          "output_type": "display_data",
          "data": {
            "application/vnd.jupyter.widget-view+json": {
              "model_id": "bd34d11751284fe9adfef700759abe97",
              "version_minor": 0,
              "version_major": 2
            },
            "text/plain": [
              "HBox(children=(IntProgress(value=1, bar_style='info', max=1), HTML(value='')))"
            ]
          },
          "metadata": {
            "tags": []
          }
        },
        {
          "output_type": "stream",
          "text": [
            "Extracting data/MNIST/raw/t10k-images-idx3-ubyte.gz to data/MNIST/raw\n",
            "Downloading http://yann.lecun.com/exdb/mnist/t10k-labels-idx1-ubyte.gz to data/MNIST/raw/t10k-labels-idx1-ubyte.gz\n"
          ],
          "name": "stdout"
        },
        {
          "output_type": "display_data",
          "data": {
            "application/vnd.jupyter.widget-view+json": {
              "model_id": "abc7270cc00a4cd78fe4a5316ac2f89c",
              "version_minor": 0,
              "version_major": 2
            },
            "text/plain": [
              "HBox(children=(IntProgress(value=1, bar_style='info', max=1), HTML(value='')))"
            ]
          },
          "metadata": {
            "tags": []
          }
        },
        {
          "output_type": "stream",
          "text": [
            "Extracting data/MNIST/raw/t10k-labels-idx1-ubyte.gz to data/MNIST/raw\n",
            "Processing...\n",
            "Done!\n"
          ],
          "name": "stdout"
        },
        {
          "output_type": "stream",
          "text": [
            "/pytorch/torch/csrc/utils/tensor_numpy.cpp:141: UserWarning: The given NumPy array is not writeable, and PyTorch does not support non-writeable tensors. This means you can write to the underlying (supposedly non-writeable) NumPy array using the tensor. You may want to copy the array to protect its data or make it writeable before converting it to a tensor. This type of warning will be suppressed for the rest of this program.\n"
          ],
          "name": "stderr"
        }
      ]
    },
    {
      "cell_type": "code",
      "metadata": {
        "id": "gi0Go6omES8C",
        "colab_type": "code",
        "colab": {
          "base_uri": "https://localhost:8080/",
          "height": 1000
        },
        "outputId": "1316d1e4-fa24-479f-f0e2-b1e5be00ba33"
      },
      "source": [
        "device = torch.device(\"cuda\" if torch.cuda.is_available() else \"cpu\")\n",
        "print('device:', device)\n",
        "\n",
        "netG = Generator(nz=nz, nch_g=nch_g).to(device) \n",
        "netD = Discriminator(nch=1, nch_d=nch_d).to(device)\n",
        "\n",
        "criterion = nn.MSELoss()\n",
        "\n",
        "optimizerD = optim.Adam(netD.parameters(), lr=lr, betas=(0.5, 0.999), weight_decay=1e-5)\n",
        "optimizerG = optim.Adam(netG.parameters(), lr=lr, betas=(0.5, 0.999), weight_decay=1e-5)\n",
        "\n",
        "fixed_noise = torch.randn(100, nz, 1, 1, device=device)\n",
        "\n",
        "# traning loop\n",
        "for epoch in range(n_epoch):\n",
        "    netG.train()\n",
        "    for itr, data in enumerate(dataloader):\n",
        "        real_image = data[0].to(device)\n",
        "        real_label = data[1].to(device)\n",
        "\n",
        "        sample_size = real_image.size(0)\n",
        "        noise = torch.randn(sample_size, nz, 1, 1, device=device)\n",
        "    \n",
        "        real_target = torch.full((sample_size,), 1., device=device)  \n",
        "        fake_target = torch.full((sample_size,), 0., device=device)  \n",
        "\n",
        "        #train discriminator\n",
        "        netD.zero_grad()  \n",
        "\n",
        "        output = netD(real_image)  \n",
        "        loss_D_real = criterion(output, real_target) \n",
        "        \n",
        "        fake_image = netG(noise) \n",
        "        \n",
        "        output = netD(fake_image.detach())  \n",
        "        loss_D_fake = criterion(output, fake_target)  \n",
        "        \n",
        "        loss_D = loss_D_real + loss_D_fake  \n",
        "        loss_D.backward()  \n",
        "        optimizerD.step()  \n",
        "\n",
        "        #train generator\n",
        "        netG.zero_grad()  \n",
        "    \n",
        "        output = netD(fake_image)  \n",
        "        loss_G = criterion(output, real_target)  \n",
        "        loss_G.backward()  \n",
        "        \n",
        "        optimizerG.step()  \n",
        "\n",
        "        if itr % 100 == 0:\n",
        "            print('[{}/{}][{}/{}] Loss_D: {:.3f} Loss_G: {:.3f}'.format(epoch + 1, n_epoch,\n",
        "                            itr + 1, len(dataloader), loss_D.item(), loss_G.item()))\n",
        "                \n",
        "    # save fake image\n",
        "    netG.eval()\n",
        "    fake_image = netG(fixed_noise)\n",
        "    fileName = 'fake_samples_epoch_{:03d}.png'.format(epoch + 1)\n",
        "    vutils.save_image(fake_image.detach(), fileName, normalize=True, nrow=10)\n",
        "\n",
        "    # save model\n",
        "\n",
        "torch.save(netG.state_dict(), 'netG.pth')\n",
        "torch.save(netD.state_dict(), 'netD.pth')\n"
      ],
      "execution_count": 5,
      "outputs": [
        {
          "output_type": "stream",
          "text": [
            "\n",
            "\n",
            "device: cuda\n",
            "[1/10][1/600] Loss_D: 0.929 Loss_G: 0.557\n",
            "[1/10][101/600] Loss_D: 0.143 Loss_G: 1.323\n",
            "[1/10][201/600] Loss_D: 0.040 Loss_G: 1.065\n",
            "[1/10][301/600] Loss_D: 0.088 Loss_G: 0.854\n",
            "[1/10][401/600] Loss_D: 0.260 Loss_G: 0.410\n",
            "[1/10][501/600] Loss_D: 0.123 Loss_G: 0.665\n",
            "[2/10][1/600] Loss_D: 0.158 Loss_G: 1.319\n",
            "[2/10][101/600] Loss_D: 0.110 Loss_G: 0.536\n",
            "[2/10][201/600] Loss_D: 0.086 Loss_G: 0.860\n",
            "[2/10][301/600] Loss_D: 0.149 Loss_G: 0.812\n",
            "[2/10][401/600] Loss_D: 0.099 Loss_G: 0.586\n",
            "[2/10][501/600] Loss_D: 0.256 Loss_G: 0.463\n",
            "[3/10][1/600] Loss_D: 0.105 Loss_G: 0.557\n",
            "[3/10][101/600] Loss_D: 0.119 Loss_G: 0.518\n",
            "[3/10][201/600] Loss_D: 0.253 Loss_G: 0.333\n",
            "[3/10][301/600] Loss_D: 0.118 Loss_G: 0.778\n",
            "[3/10][401/600] Loss_D: 0.100 Loss_G: 1.343\n",
            "[3/10][501/600] Loss_D: 1.097 Loss_G: 0.842\n",
            "[4/10][1/600] Loss_D: 0.085 Loss_G: 0.952\n",
            "[4/10][101/600] Loss_D: 0.197 Loss_G: 0.361\n",
            "[4/10][201/600] Loss_D: 0.096 Loss_G: 0.606\n",
            "[4/10][301/600] Loss_D: 0.080 Loss_G: 0.779\n",
            "[4/10][401/600] Loss_D: 0.124 Loss_G: 0.647\n",
            "[4/10][501/600] Loss_D: 0.140 Loss_G: 1.284\n",
            "[5/10][1/600] Loss_D: 0.127 Loss_G: 1.039\n",
            "[5/10][101/600] Loss_D: 0.064 Loss_G: 0.868\n",
            "[5/10][201/600] Loss_D: 0.096 Loss_G: 0.900\n",
            "[5/10][301/600] Loss_D: 0.086 Loss_G: 0.624\n",
            "[5/10][401/600] Loss_D: 0.096 Loss_G: 0.607\n",
            "[5/10][501/600] Loss_D: 0.328 Loss_G: 0.633\n",
            "[6/10][1/600] Loss_D: 0.193 Loss_G: 0.493\n",
            "[6/10][101/600] Loss_D: 0.106 Loss_G: 0.621\n",
            "[6/10][201/600] Loss_D: 0.094 Loss_G: 0.723\n",
            "[6/10][301/600] Loss_D: 0.126 Loss_G: 0.360\n",
            "[6/10][401/600] Loss_D: 0.139 Loss_G: 1.142\n",
            "[6/10][501/600] Loss_D: 0.110 Loss_G: 0.670\n",
            "[7/10][1/600] Loss_D: 0.137 Loss_G: 0.612\n",
            "[7/10][101/600] Loss_D: 0.061 Loss_G: 1.213\n",
            "[7/10][201/600] Loss_D: 0.081 Loss_G: 0.966\n",
            "[7/10][301/600] Loss_D: 0.072 Loss_G: 0.756\n",
            "[7/10][401/600] Loss_D: 0.058 Loss_G: 0.707\n",
            "[7/10][501/600] Loss_D: 0.059 Loss_G: 1.032\n",
            "[8/10][1/600] Loss_D: 0.058 Loss_G: 0.851\n",
            "[8/10][101/600] Loss_D: 0.277 Loss_G: 0.577\n",
            "[8/10][201/600] Loss_D: 0.202 Loss_G: 0.450\n",
            "[8/10][301/600] Loss_D: 0.069 Loss_G: 0.840\n",
            "[8/10][401/600] Loss_D: 0.253 Loss_G: 0.417\n",
            "[8/10][501/600] Loss_D: 0.112 Loss_G: 0.776\n",
            "[9/10][1/600] Loss_D: 0.110 Loss_G: 0.528\n",
            "[9/10][101/600] Loss_D: 0.050 Loss_G: 0.838\n",
            "[9/10][201/600] Loss_D: 0.041 Loss_G: 0.940\n",
            "[9/10][301/600] Loss_D: 0.052 Loss_G: 0.743\n",
            "[9/10][401/600] Loss_D: 0.034 Loss_G: 0.889\n",
            "[9/10][501/600] Loss_D: 0.050 Loss_G: 0.789\n",
            "[10/10][1/600] Loss_D: 0.055 Loss_G: 1.103\n",
            "[10/10][101/600] Loss_D: 0.083 Loss_G: 1.183\n",
            "[10/10][201/600] Loss_D: 0.042 Loss_G: 1.084\n",
            "[10/10][301/600] Loss_D: 0.048 Loss_G: 0.876\n",
            "[10/10][401/600] Loss_D: 0.264 Loss_G: 0.475\n",
            "[10/10][501/600] Loss_D: 0.042 Loss_G: 0.842\n"
          ],
          "name": "stdout"
        }
      ]
    },
    {
      "cell_type": "markdown",
      "metadata": {
        "id": "W440tvQqRqeN",
        "colab_type": "text"
      },
      "source": [
        "# Convert generator to ONNX.js model"
      ]
    },
    {
      "cell_type": "code",
      "metadata": {
        "id": "8hSlxONIRh2u",
        "colab_type": "code",
        "colab": {}
      },
      "source": [
        "# custom ConvTranspose2D layer for onnx.js\n",
        "# onnx.js can't use nn.ConvTranspose2D.\n",
        "# this custom layer is conposed by torch.cat and nn.Conv2d.\n",
        "# this layer has some limitations.\n",
        "# Since shape method is disable, batchsize height and width must be determined.\n",
        "class ConvTranspose2D_ONNXJS(nn.Conv2d):\n",
        "    def __init__(self, in_channels, out_channels, kernel_size, stride, padding, height, width, batch_size):\n",
        "        super(ConvTranspose2D_ONNXJS, self).__init__(in_channels, out_channels, kernel_size, 1, 0)\n",
        "\n",
        "        self.in_channels = in_channels\n",
        "        self.out_channels = out_channels\n",
        "        self.kernel_size = kernel_size\n",
        "        self.stride_t = stride\n",
        "        if not (self.stride_t==1 or self.stride_t==2):\n",
        "            raise Exception(\"available stride is only 1 or 2.\")\n",
        "\n",
        "        self.padding_t = padding\n",
        "        self.h = height\n",
        "        self.w = width\n",
        "        self.b = batch_size\n",
        "        self.outpad = self.kernel_size - 1 - self.padding_t\n",
        "        if self.outpad < (self.stride_t-1):\n",
        "            raise Exception(\"outside padding is too little.\")\n",
        "        \n",
        "\n",
        "    def forward(self, x):\n",
        "        if self.stride_t == 2:\n",
        "            #2 stride by concat\n",
        "            tmp  = x.view(-1,1)\n",
        "            tmp  = torch.cat([tmp, torch.zeros((self.b * self.in_channels * self.h * self.w, 1))],1)\n",
        "            tmp = tmp.view(-1, self.w * 2)\n",
        "            x = torch.cat([tmp,torch.zeros((self.b * self.in_channels * self.h, self.w * 2))], 1).view(-1, self.in_channels, self.h * 2, self.w * 2)\n",
        "            # outside padding by concat\n",
        "            hs, ws, he, we = self.outpad, self.outpad, self.outpad, self.outpad\n",
        "            x = torch.cat([torch.zeros((self.b, self.in_channels, hs, self.w * 2)), x, torch.zeros((self.b, self.in_channels, he-1, self.w * 2))], 2)\n",
        "            x = torch.cat([torch.zeros((self.b, self.in_channels, self.h * 2+hs+he-1, ws)), x, torch.zeros((self.b, self.in_channels, self.h*2+hs+he-1, we-1))], 3)\n",
        "        else:\n",
        "            # outside padding by concat\n",
        "            hs, ws, he, we = self.outpad, self.outpad, self.outpad, self.outpad\n",
        "            x = torch.cat([torch.zeros((self.b, self.in_channels, hs, self.w)), x, torch.zeros((self.b, self.in_channels, he, self.w))], 2)\n",
        "            x = torch.cat([torch.zeros((self.b, self.in_channels, self.h+hs+he, ws)), x, torch.zeros((self.b, self.in_channels, self.h+hs+he, we))], 3)\n",
        "\n",
        "        x = super().forward(x)\n",
        "        return x\n",
        "\n",
        "# ConvTranspose2D weight to Conv2D weight\n",
        "def convert_weight(nn_weight):\n",
        "    w = nn_weight[:]\n",
        "    I, O, H, W = w.shape\n",
        "    w = w.permute(1,0,2,3)\n",
        "    w = w[:, :, torch.arange(H-1,-1,-1), :]\n",
        "    w = w[:, :, :, torch.arange(W-1,-1,-1)]\n",
        "    return w"
      ],
      "execution_count": 0,
      "outputs": []
    },
    {
      "cell_type": "code",
      "metadata": {
        "id": "Gq6kQgRoR5X2",
        "colab_type": "code",
        "colab": {}
      },
      "source": [
        "class Generator_replace(nn.Module):\n",
        "    def __init__(self, nz=100, nch_g=64, nch=1, ):\n",
        "        super(Generator_replace, self).__init__()\n",
        "\n",
        "        # (100, 1, 1) -> (256, 4, 4)\n",
        "        self.conv0 = ConvTranspose2D_ONNXJS(nz, nch_g * 4, 4, 1, 0, 1, 1, 1)\n",
        "        self.bn0 = nn.BatchNorm2d(nch_g * 4)\n",
        "        self.act0 = nn.ReLU()\n",
        "        \n",
        "        # (256, 4, 4) -> (128, 8, 8)\n",
        "        self.conv1 = ConvTranspose2D_ONNXJS(nch_g*4, nch_g * 2, 4, 2, 1, 4, 4, 1)\n",
        "        self.bn1 = nn.BatchNorm2d(nch_g * 2)\n",
        "        self.act1 = nn.ReLU()\n",
        "        \n",
        "        # (128, 8, 8) -> (64, 16, 16)\n",
        "        self.conv2 = ConvTranspose2D_ONNXJS(nch_g*2, nch_g * 1, 4, 2, 1, 8, 8, 1)\n",
        "        self.bn2 = nn.BatchNorm2d(nch_g * 1)\n",
        "        self.act2 = nn.ReLU()\n",
        "        \n",
        "        # (64, 16, 16) -> (1, 32, 32)\n",
        "        self.conv3 = ConvTranspose2D_ONNXJS(nch_g*1, nch, 4, 2, 1, 16, 16, 1)\n",
        "        self.act3 = nn.Tanh()\n",
        "        \n",
        "    def forward(self, z):\n",
        "        z = self.conv0(z)\n",
        "        z = self.bn0(z)\n",
        "        z = self.act0(z)\n",
        "\n",
        "        z = self.conv1(z)\n",
        "        z = self.bn1(z)\n",
        "        z = self.act1(z)\n",
        "\n",
        "        z = self.conv2(z)\n",
        "        z = self.bn2(z)\n",
        "        z = self.act2(z)\n",
        "\n",
        "        z = self.conv3(z)\n",
        "        z = self.act3(z)\n",
        "        return z"
      ],
      "execution_count": 0,
      "outputs": []
    },
    {
      "cell_type": "markdown",
      "metadata": {
        "id": "OxQC6EdOeWJr",
        "colab_type": "text"
      },
      "source": [
        "##  copy weights"
      ]
    },
    {
      "cell_type": "code",
      "metadata": {
        "id": "NL4yUzl_R5Vg",
        "colab_type": "code",
        "outputId": "b8095432-6da5-4ee8-ce74-997d68f4ba8d",
        "colab": {
          "base_uri": "https://localhost:8080/",
          "height": 408
        }
      },
      "source": [
        "netG_r = Generator_replace(nz=nz, nch_g=nch_g)\n",
        "netG_r.eval()\n",
        "for (k, v), (k_r, v_r) in zip(netG.state_dict().items(), netG_r.state_dict().items()):\n",
        "    print(k, \"->\", k_r)\n",
        "    if len(v.shape)==0:\n",
        "        v_r = v\n",
        "    else:\n",
        "        if len(v.shape)==4:\n",
        "            v_r[:] = convert_weight(v) # ConvTranspose2D weight to Conv2D weight\n",
        "        else:\n",
        "            v_r[:] = v"
      ],
      "execution_count": 8,
      "outputs": [
        {
          "output_type": "stream",
          "text": [
            "conv0.weight -> conv0.weight\n",
            "conv0.bias -> conv0.bias\n",
            "bn0.weight -> bn0.weight\n",
            "bn0.bias -> bn0.bias\n",
            "bn0.running_mean -> bn0.running_mean\n",
            "bn0.running_var -> bn0.running_var\n",
            "bn0.num_batches_tracked -> bn0.num_batches_tracked\n",
            "conv1.weight -> conv1.weight\n",
            "conv1.bias -> conv1.bias\n",
            "bn1.weight -> bn1.weight\n",
            "bn1.bias -> bn1.bias\n",
            "bn1.running_mean -> bn1.running_mean\n",
            "bn1.running_var -> bn1.running_var\n",
            "bn1.num_batches_tracked -> bn1.num_batches_tracked\n",
            "conv2.weight -> conv2.weight\n",
            "conv2.bias -> conv2.bias\n",
            "bn2.weight -> bn2.weight\n",
            "bn2.bias -> bn2.bias\n",
            "bn2.running_mean -> bn2.running_mean\n",
            "bn2.running_var -> bn2.running_var\n",
            "bn2.num_batches_tracked -> bn2.num_batches_tracked\n",
            "conv3.weight -> conv3.weight\n",
            "conv3.bias -> conv3.bias\n"
          ],
          "name": "stdout"
        }
      ]
    },
    {
      "cell_type": "code",
      "metadata": {
        "id": "Gel-h8jQR5TC",
        "colab_type": "code",
        "outputId": "cda124b1-379a-4883-eb4c-39d38a0c5fd0",
        "colab": {
          "base_uri": "https://localhost:8080/",
          "height": 283
        }
      },
      "source": [
        "z = torch.randn(1, nz, 1, 1)\n",
        "netG = netG.cpu()\n",
        "netG.eval()\n",
        "fake_image = netG(z)\n",
        "im = fake_image[0,0].data.numpy()\n",
        "plt.imshow(im)"
      ],
      "execution_count": 9,
      "outputs": [
        {
          "output_type": "execute_result",
          "data": {
            "text/plain": [
              "<matplotlib.image.AxesImage at 0x7f36b6045240>"
            ]
          },
          "metadata": {
            "tags": []
          },
          "execution_count": 9
        },
        {
          "output_type": "display_data",
          "data": {
            "image/png": "[encoded data removed]",
            "text/plain": [
              "<Figure size 432x288 with 1 Axes>"
            ]
          },
          "metadata": {
            "tags": [],
            "needs_background": "light"
          }
        }
      ]
    },
    {
      "cell_type": "code",
      "metadata": {
        "id": "syd9o6RWT4L-",
        "colab_type": "code",
        "outputId": "6a6f958d-2dc0-4cef-b0e7-76e8c8006435",
        "colab": {
          "base_uri": "https://localhost:8080/",
          "height": 283
        }
      },
      "source": [
        "fake_image_r = netG_r(z)\n",
        "im = fake_image_r[0,0].data.numpy()\n",
        "plt.imshow(im)"
      ],
      "execution_count": 10,
      "outputs": [
        {
          "output_type": "execute_result",
          "data": {
            "text/plain": [
              "<matplotlib.image.AxesImage at 0x7f36b8ba9518>"
            ]
          },
          "metadata": {
            "tags": []
          },
          "execution_count": 10
        },
        {
          "output_type": "display_data",
          "data": {
            "image/png": "[encoded data removed]",
            "text/plain": [
              "<Figure size 432x288 with 1 Axes>"
            ]
          },
          "metadata": {
            "tags": [],
            "needs_background": "light"
          }
        }
      ]
    },
    {
      "cell_type": "code",
      "metadata": {
        "id": "ca4p0mimR5QT",
        "colab_type": "code",
        "outputId": "0e71a829-9101-446c-9c4c-553310b4fea6",
        "colab": {
          "base_uri": "https://localhost:8080/",
          "height": 238
        }
      },
      "source": [
        "fake_image - fake_image_r"
      ],
      "execution_count": 11,
      "outputs": [
        {
          "output_type": "execute_result",
          "data": {
            "text/plain": [
              "tensor([[[[ 0.0000e+00,  0.0000e+00,  0.0000e+00,  ...,  0.0000e+00,\n",
              "            0.0000e+00,  0.0000e+00],\n",
              "          [ 0.0000e+00,  0.0000e+00,  0.0000e+00,  ...,  0.0000e+00,\n",
              "            0.0000e+00,  0.0000e+00],\n",
              "          [ 0.0000e+00,  0.0000e+00,  0.0000e+00,  ...,  0.0000e+00,\n",
              "            0.0000e+00,  0.0000e+00],\n",
              "          ...,\n",
              "          [ 0.0000e+00,  0.0000e+00,  0.0000e+00,  ..., -5.9605e-08,\n",
              "            0.0000e+00,  0.0000e+00],\n",
              "          [ 0.0000e+00, -5.9605e-08,  0.0000e+00,  ...,  0.0000e+00,\n",
              "            0.0000e+00,  0.0000e+00],\n",
              "          [ 0.0000e+00,  0.0000e+00,  0.0000e+00,  ...,  0.0000e+00,\n",
              "            0.0000e+00,  0.0000e+00]]]], grad_fn=<SubBackward0>)"
            ]
          },
          "metadata": {
            "tags": []
          },
          "execution_count": 11
        }
      ]
    },
    {
      "cell_type": "markdown",
      "metadata": {
        "id": "kCCenR3WeaaD",
        "colab_type": "text"
      },
      "source": [
        "# export onnx file"
      ]
    },
    {
      "cell_type": "code",
      "metadata": {
        "id": "izkijv0VYf02",
        "colab_type": "code",
        "colab": {}
      },
      "source": [
        "\n",
        "torch.onnx.export(netG_r, z, 'netG.onnx')\n"
      ],
      "execution_count": 0,
      "outputs": []
    },
    {
      "cell_type": "code",
      "metadata": {
        "id": "CqtoJIacYfvc",
        "colab_type": "code",
        "outputId": "3b454b4a-1c4d-4765-d3d9-0dfc09c180b1",
        "colab": {
          "base_uri": "https://localhost:8080/",
          "height": 258
        }
      },
      "source": [
        "!pip install onnxruntime"
      ],
      "execution_count": 13,
      "outputs": [
        {
          "output_type": "stream",
          "text": [
            "Collecting onnxruntime\n",
            "\u001b[?25l  Downloading https://files.pythonhosted.org/packages/69/39/404df5ee608c548dacde43a17faf0248b183fa6163cf9c06aca6a511d760/onnxruntime-1.2.0-cp36-cp36m-manylinux1_x86_64.whl (3.7MB)\n",
            "\u001b[K     |████████████████████████████████| 3.7MB 3.4MB/s \n",
            "\u001b[?25hRequirement already satisfied: numpy>=1.18.0 in /usr/local/lib/python3.6/dist-packages (from onnxruntime) (1.18.3)\n",
            "Collecting onnx>=1.2.3\n",
            "\u001b[?25l  Downloading https://files.pythonhosted.org/packages/f5/f4/e126b60d109ad1e80020071484b935980b7cce1e4796073aab086a2d6902/onnx-1.6.0-cp36-cp36m-manylinux1_x86_64.whl (4.8MB)\n",
            "\u001b[K     |████████████████████████████████| 4.8MB 28.1MB/s \n",
            "\u001b[?25hRequirement already satisfied: protobuf in /usr/local/lib/python3.6/dist-packages (from onnx>=1.2.3->onnxruntime) (3.10.0)\n",
            "Requirement already satisfied: six in /usr/local/lib/python3.6/dist-packages (from onnx>=1.2.3->onnxruntime) (1.12.0)\n",
            "Requirement already satisfied: typing-extensions>=3.6.2.1 in /usr/local/lib/python3.6/dist-packages (from onnx>=1.2.3->onnxruntime) (3.6.6)\n",
            "Requirement already satisfied: setuptools in /usr/local/lib/python3.6/dist-packages (from protobuf->onnx>=1.2.3->onnxruntime) (46.1.3)\n",
            "Installing collected packages: onnx, onnxruntime\n",
            "Successfully installed onnx-1.6.0 onnxruntime-1.2.0\n"
          ],
          "name": "stdout"
        }
      ]
    },
    {
      "cell_type": "code",
      "metadata": {
        "id": "kpBv4sWiYTGN",
        "colab_type": "code",
        "outputId": "818907b1-b5b0-4c58-a78e-f5dc1d043d69",
        "colab": {
          "base_uri": "https://localhost:8080/",
          "height": 34
        }
      },
      "source": [
        "import onnxruntime\n",
        "session = onnxruntime.InferenceSession(\"netG.onnx\")\n",
        "\n",
        "def to_numpy(tensor):\n",
        "    return tensor.detach().cpu().numpy() if tensor.requires_grad else tensor.cpu().numpy()\n",
        "\n",
        "# compute ONNX Runtime output prediction\n",
        "input_name = session.get_inputs()[0].name\n",
        "output_name = session.get_outputs()[0].name\n",
        "\n",
        "ort_outs = session.run([output_name], {input_name: to_numpy(z)})\n",
        "\n",
        "# compare ONNX Runtime and PyTorch results\n",
        "np.testing.assert_allclose(to_numpy(fake_image_r), ort_outs[0], rtol=1e-03, atol=1e-05)\n",
        "\n",
        "print(\"Exported model has been tested with ONNXRuntime, and the result looks good!\")"
      ],
      "execution_count": 14,
      "outputs": [
        {
          "output_type": "stream",
          "text": [
            "Exported model has been tested with ONNXRuntime, and the result looks good!\n"
          ],
          "name": "stdout"
        }
      ]
    }
  ]
}